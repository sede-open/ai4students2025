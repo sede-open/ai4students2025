{
 "cells": [
  {
   "cell_type": "markdown",
   "metadata": {},
   "source": [
    "# Webpage Creator\n",
    "\n",
    "Task:\n",
    "* Brainstorm ideas for webpages to build (e.g Pizza store, Gaming, Cooking etc)​.\n",
    "* Prepare the `task` prompt​ with your idea.\n",
    "* Run the code, and see your webpage!\n"
   ]
  },
  {
   "cell_type": "code",
   "execution_count": 30,
   "metadata": {},
   "outputs": [],
   "source": [
    "task: str = \"\"\"\\\n",
    "A website that sells energy drinks called 'Boost'.\n",
    "There are many different fruity flavours but the main one I want to sell is the red berry.\n",
    "\n",
    "It should be saturated with red and have a modern, sleek design.\n",
    "The website should include sections for product information, customer reviews,\n",
    "and a blog about the benefits of energy drinks. It should also have a contact form and links to social media.\n",
    "\n",
    "Make the UI responsive, and a single-page application (SPA).\n",
    "\"\"\"\n",
    "# task: str = \"A website about video games, complete with a store, blog etc.\"\n",
    "# task: str = \"A website about cars.\"\n",
    "# task: str = \"Make a website about coffee.\"\n",
    "# task: str = \"Make a website about animals, such as the zoo or a safari.\"\n",
    "# task: str = \"Make a website related to pizza.\"\n",
    "# task: str = \"Make a website related to cooking.\"\n",
    "# task: str = \"Make a blog post about one of your passions.\"\n",
    "# task: str = \"Make a useful website for high school students looking to apply to university.\"\n"
   ]
  },
  {
   "cell_type": "code",
   "execution_count": 31,
   "metadata": {},
   "outputs": [],
   "source": [
    "ENABLE_BACKGROUND_IMAGE: bool = True\n",
    "\n",
    "ENABLE_SITE_IMAGES: bool = True\n",
    "NUM_SITE_IMAGES: int = 3\n"
   ]
  },
  {
   "cell_type": "code",
   "execution_count": 32,
   "metadata": {},
   "outputs": [],
   "source": [
    "coder_system_message: str = \"\"\"Website Developer.\n",
    "You are an expert in programming HTML. You are tasked with creating a website for a client.\n",
    "\n",
    "Your response must only be a single \"```html\" block, and include all contents of the file.\n",
    "Do not abbreviate the HTML tags, and ensure that the file is complete and valid.\n",
    "\"\"\""
   ]
  },
  {
   "cell_type": "code",
   "execution_count": 33,
   "metadata": {},
   "outputs": [],
   "source": [
    "critic_system_message: str = \"\"\"Critic.\n",
    "You are a helpful assistant highly skilled in evaluating the quality of a given webpage's HTML code by providing a score from 1 (bad) - 10 (good) while providing clear rationale.\n",
    "YOU MUST CONSIDER HTML BEST PRACTICES for each evaluation. Specifically, you can carefully evaluate the code across the following dimensions\n",
    "- Bugs (bugs): Are there logic errors, syntax error or typos? If ANY bug exists, the bug score MUST be less than 5.\n",
    "- Goal compliance (compliance): How well the code meets the specified webpage goals?\n",
    "- Navigation (navigation): Is the navigation bar easy to use and understand? Does it have a clear hierarchy? No navigation bar means a score of 0. No href links means a score of 0.\n",
    "- Layout (layout): Is the layout of the webpage appropriate? Is the webpage responsive? Does it look good on mobile devices?\n",
    "- Aesthetics (aesthetics): Is the webpage visually appealing? Does it have a good color scheme? Does it have a good font? Does it have a good use of whitespace? If there is no CSS, then mark this as 0.\n",
    "- Images (images): Do images have a max-width so that they do not take up too much space? Make sure that `max-width: 50%` is the largest an image can be.\n",
    "- Content (content): Suggest improvements to the content. Are more sections needed? Is it worded well?\n",
    "\n",
    "YOU MUST PROVIDE A SCORE for each of the above dimensions.\n",
    "{bugs: 0, compliance: 0, navigation: 0, layout: 0, aesthetics: 0, images: 0, content: 0}\n",
    "Do not suggest code.\n",
    "Finally, based on the critique above, suggest a concrete list of actions that the coder should take to improve the code.\n",
    "\n",
    "After your scores and rationale, provide enhancements to the content that can be made.\n",
    "\"\"\""
   ]
  },
  {
   "attachments": {},
   "cell_type": "markdown",
   "metadata": {},
   "source": [
    "## Imports"
   ]
  },
  {
   "cell_type": "code",
   "execution_count": 34,
   "metadata": {},
   "outputs": [],
   "source": [
    "# %pip install -U pyautogen\n",
    "# %pip install -U openai\n"
   ]
  },
  {
   "cell_type": "code",
   "execution_count": 35,
   "metadata": {},
   "outputs": [],
   "source": [
    "# Maximum number of messages in the chat\n",
    "MAX_MESSAGES: int = 5\n"
   ]
  },
  {
   "cell_type": "code",
   "execution_count": 36,
   "metadata": {},
   "outputs": [],
   "source": [
    "import os\n",
    "import time\n",
    "import base64\n",
    "import autogen\n",
    "from openai import OpenAI, BadRequestError\n",
    "from random import randint\n",
    "from autogen.agentchat import UserProxyAgent, AssistantAgent\n"
   ]
  },
  {
   "cell_type": "code",
   "execution_count": null,
   "metadata": {},
   "outputs": [],
   "source": [
    "# List of OpenAI API configurations\n",
    "config_list: list = autogen.config_list_from_json(\n",
    "    \"OAI_CONFIG_LIST\",\n",
    ")\n",
    "\n",
    "apikey = config_list[0][\"api_key\"]\n",
    "print(f\"Using {len(config_list)} OpenAI API configurations\")"
   ]
  },
  {
   "cell_type": "markdown",
   "metadata": {},
   "source": [
    "## Setup Images"
   ]
  },
  {
   "cell_type": "code",
   "execution_count": 38,
   "metadata": {},
   "outputs": [],
   "source": [
    "client = OpenAI(api_key=apikey)\n",
    "model = \"dall-e-3\"\n"
   ]
  },
  {
   "cell_type": "code",
   "execution_count": 39,
   "metadata": {},
   "outputs": [],
   "source": [
    "def get_image_filename(image_generation_prompt: str) -> str:\n",
    "    \"\"\"Generate a filename based on the image generation prompt, using OpenAI\"\"\"\n",
    "    prompt: str = f\"Generate a filename for an image based on the following prompt:\\n```{image_generation_prompt}```\\n\\nFilename: \"\n",
    "\n",
    "    response = client.chat.completions.create(\n",
    "        model=\"gpt-4o\",\n",
    "        messages=[\n",
    "            {\"role\": \"system\", \"content\": \"You are a helpful assistant that generates filenames \"\n",
    "                                          \"for images that were generated using the given prompt.\"},\n",
    "            {\"role\": \"user\", \"content\": prompt}\n",
    "        ],\n",
    "        max_tokens=20,\n",
    "        temperature=0.0\n",
    "    )\n",
    "\n",
    "    filename: str = response.choices[0].message.content.strip()\n",
    "    filename2 = '.'.join(filename.split('.')[:-1])  # Remove any file extension if present\n",
    "    # Only allow alphanumeric characters, underscores, and dashes in the filename\n",
    "    filename3 = ''.join(c for c in filename2 if c.isalnum() or c in ('_', '-')).strip()\n",
    "    assert filename3, \"Filename cannot be empty.\\n\" + \\\n",
    "                      \"Raw response message: `\" + response.choices[0].message.content + \"`\\n\" + \\\n",
    "                      \"Filename 1: `\" + filename + \"`\\n\" + \\\n",
    "                      \"Filename 2: `\" + filename2 + \"`\\n\" + \\\n",
    "                      \"Filename 3: `\" + filename3 + \"`\"\n",
    "    filename = filename3\n",
    "\n",
    "    number_suffix = 1\n",
    "    while f\"{filename}_{number_suffix}.png\" in os.listdir(\"generated_images\"):\n",
    "        number_suffix += 1\n",
    "\n",
    "    return f\"{filename}_{number_suffix}.png\"\n",
    "\n",
    "\n",
    "def generate_image(image_generation_prompt: str, filename: str=None) -> str:\n",
    "    \"\"\"Generate an image based on the prompt\"\"\"\n",
    "    try:\n",
    "        response = client.images.generate(prompt=image_generation_prompt,\n",
    "                                        model=model,\n",
    "                                        quality=\"standard\",\n",
    "                                        response_format=\"b64_json\",\n",
    "                                        size=\"1024x1024\")\n",
    "    except BadRequestError as e:\n",
    "        print(f\"Error generating image: {e}\")\n",
    "        return\n",
    "    img_data =  response.data[0].b64_json\n",
    "    img_bytes = base64.b64decode(img_data)\n",
    "\n",
    "    if not filename:\n",
    "        filename = get_image_filename(image_generation_prompt)\n",
    "\n",
    "    print(f\"Saving image as: `{filename}`...\")\n",
    "    with open(os.path.join('generated_images', filename), 'wb') as handler:\n",
    "        handler.write(img_bytes)\n"
   ]
  },
  {
   "cell_type": "code",
   "execution_count": null,
   "metadata": {},
   "outputs": [],
   "source": [
    "# Generate new images that can be used on the webpage\n",
    "def get_website_background_image_prompt(task: str) -> str:\n",
    "    \"\"\"Generate a prompt for the background image of the website\"\"\"\n",
    "    # prompt: str = f\"Provide a prompt for the background image of a website about:\\n```{task}```\\n\\nPrompt: \"\n",
    "    prompt: str = f\"What can be shown on the background of a website about:\\n```{task}```\\n\\nPrompt: \"\n",
    "\n",
    "    system_prompt: str = \"\"\"\\\n",
    "You are a helpful assistant that generates prompts for background images\n",
    "to be displayed on websites. \n",
    "Ensure that the image is suitable for a website background (i.e. light, scenic, faded, indiscreet, minimalistic, abstract).\n",
    "The image should not be distracting or detailed, and should complement the website's theme.\n",
    "Prompts should be descriptive, not contain verbs and about 10-20 words long.\n",
    "\"\"\"\n",
    "\n",
    "    response = client.chat.completions.create(\n",
    "        model=\"gpt-4o\",\n",
    "        messages=[\n",
    "            {\"role\": \"system\", \"content\": system_prompt},\n",
    "            {\"role\": \"user\", \"content\": prompt}\n",
    "        ],\n",
    "        max_tokens=50,\n",
    "        temperature=1.5,\n",
    "        seed=randint(0, 1000000)  # Random seed to force different prompts each time\n",
    "    )\n",
    "\n",
    "    return response.choices[0].message.content.strip()\n",
    "\n",
    "\n",
    "# Background image for the webpage\n",
    "if ENABLE_BACKGROUND_IMAGE:\n",
    "    background_image_prompt: str = get_website_background_image_prompt(task)\n",
    "    print(f\"Background image prompt: {background_image_prompt}\")\n",
    "    generate_image(image_generation_prompt=background_image_prompt, filename='background.png')\n"
   ]
  },
  {
   "cell_type": "code",
   "execution_count": null,
   "metadata": {},
   "outputs": [],
   "source": [
    "# Generate new images that can be used on the webpage\n",
    "def get_image_generation_prompt(task: str) -> str:\n",
    "    \"\"\"Create a new image generation prompt for the website\"\"\"\n",
    "    prompt: str = f\"What image can be shown on a website about:\\n```{task}```\\n\\nPrompt: \"\n",
    "\n",
    "    system_prompt: str = \"\"\"\\\n",
    "You are a helpful assistant that generates prompts for images to be displayed on websites.\n",
    "Decide on one specific object to describe in the prompt. Be descriptive, exclude verbs and stick to 10-20 words long.\n",
    "\"\"\"\n",
    "\n",
    "    response = client.chat.completions.create(\n",
    "        model=\"gpt-4o\",\n",
    "        messages=[\n",
    "            {\"role\": \"system\", \"content\": system_prompt},\n",
    "            {\"role\": \"user\", \"content\": prompt}\n",
    "        ],\n",
    "        max_tokens=50,\n",
    "        temperature=1.6,\n",
    "        seed=randint(0, 10000000)  # Random seed to force different prompts each time\n",
    "    )\n",
    "\n",
    "    return response.choices[0].message.content.strip()\n",
    "\n",
    "\n",
    "# Generate multiple images for the website\n",
    "if ENABLE_SITE_IMAGES:\n",
    "    for i in range(NUM_SITE_IMAGES):\n",
    "        new_image_prompt: str = get_image_generation_prompt(task=task)\n",
    "        print(f\"Image generation prompt: `{new_image_prompt}`\")\n",
    "        generate_image(image_generation_prompt=new_image_prompt)\n",
    "        time.sleep(1)  # Sleep for a second to avoid hitting the rate limit\n"
   ]
  },
  {
   "cell_type": "code",
   "execution_count": 42,
   "metadata": {},
   "outputs": [],
   "source": [
    "# Find images that can be used\n",
    "def list_available_images() -> list:\n",
    "    \"\"\"List all available images.\"\"\"\n",
    "    default_images = [os.path.join(\"..\", \"images\", image)\n",
    "                      for image in os.listdir(\"images\")\n",
    "                      if image.endswith((\".jpg\", \".jpeg\", \".png\"))]\n",
    "    generate_images = [os.path.join(\"..\", \"generated_images\", image)\n",
    "                       for image in os.listdir(\"generated_images\")\n",
    "                       if image.endswith((\".jpg\", \".jpeg\", \".png\"))]\n",
    "    return default_images + generate_images\n",
    "\n",
    "image_filenames = list_available_images()\n"
   ]
  },
  {
   "cell_type": "markdown",
   "metadata": {},
   "source": [
    "## Shared Configs\n"
   ]
  },
  {
   "cell_type": "code",
   "execution_count": 43,
   "metadata": {},
   "outputs": [],
   "source": [
    "# For User Proxy Agents\n",
    "code_execution_config: bool = False\n",
    "\n",
    "def is_termination_msg(msg: dict) -> bool:\n",
    "    return \"TERMINATE\" in msg[\"content\"]\n"
   ]
  },
  {
   "attachments": {},
   "cell_type": "markdown",
   "metadata": {},
   "source": [
    "## Construct Agents"
   ]
  },
  {
   "cell_type": "code",
   "execution_count": 44,
   "metadata": {},
   "outputs": [],
   "source": [
    "agents: list = []"
   ]
  },
  {
   "cell_type": "code",
   "execution_count": 45,
   "metadata": {},
   "outputs": [],
   "source": [
    "coder = AssistantAgent(\n",
    "    name=\"Coder\",\n",
    "    system_message=coder_system_message,\n",
    "    llm_config={\n",
    "        \"config_list\": config_list,\n",
    "        \"cache_seed\": None,\n",
    "        \"temperature\": 0.1,\n",
    "        \"timeout\": 600,\n",
    "    },\n",
    ")\n",
    "\n",
    "agents.append(coder)\n"
   ]
  },
  {
   "cell_type": "code",
   "execution_count": 46,
   "metadata": {},
   "outputs": [],
   "source": [
    "critic = AssistantAgent(\n",
    "    name=\"Critic\",\n",
    "    system_message=critic_system_message,\n",
    "    llm_config={\n",
    "        \"config_list\": config_list,\n",
    "        \"cache_seed\": None,\n",
    "        \"temperature\": 0.3,\n",
    "        \"timeout\": 600,\n",
    "    },\n",
    ")\n",
    "\n",
    "agents.append(critic)"
   ]
  },
  {
   "cell_type": "markdown",
   "metadata": {},
   "source": [
    "### User Proxy Agent\n"
   ]
  },
  {
   "cell_type": "code",
   "execution_count": 47,
   "metadata": {},
   "outputs": [],
   "source": [
    "# The User Proxy Agent starts the conversation\n",
    "user_proxy = UserProxyAgent(\n",
    "    name=\"user_proxy\",\n",
    "    system_message=\"A human admin.\",\n",
    "    human_input_mode=\"NEVER\",\n",
    "    is_termination_msg=is_termination_msg,\n",
    "    code_execution_config=code_execution_config,\n",
    "    default_auto_reply=\"\",\n",
    "    max_consecutive_auto_reply=MAX_MESSAGES,\n",
    ")\n"
   ]
  },
  {
   "cell_type": "markdown",
   "metadata": {},
   "source": [
    "### Create Group Chat"
   ]
  },
  {
   "cell_type": "code",
   "execution_count": null,
   "metadata": {},
   "outputs": [],
   "source": [
    "print(\"Chat participants:\")\n",
    "for agent in agents:\n",
    "    print(f\" - {agent.name} ({agent.__module__.split('.')[-1]})\")\n"
   ]
  },
  {
   "cell_type": "code",
   "execution_count": 49,
   "metadata": {},
   "outputs": [],
   "source": [
    "groupchat = autogen.GroupChat(\n",
    "    agents=agents,\n",
    "    messages=[],\n",
    "    speaker_selection_method=\"round_robin\",\n",
    "    allow_repeat_speaker=False,\n",
    "    max_round=MAX_MESSAGES,\n",
    ")\n",
    "\n",
    "groupchatmanager = autogen.GroupChatManager(\n",
    "    name=\"chat_manager\",\n",
    "    groupchat=groupchat,\n",
    "    is_termination_msg=is_termination_msg,\n",
    "    llm_config={\n",
    "        \"config_list\": config_list,\n",
    "        \"cache_seed\": None,\n",
    "        \"temperature\": 0.2,\n",
    "        \"timeout\": 300,\n",
    "    },\n",
    ")\n"
   ]
  },
  {
   "cell_type": "markdown",
   "metadata": {},
   "source": [
    "## Setup Conversation"
   ]
  },
  {
   "cell_type": "code",
   "execution_count": 50,
   "metadata": {},
   "outputs": [],
   "source": [
    "system_prompt: str = f\"\"\"\\\n",
    "Build a responsive HTML website for the client.\n",
    "\n",
    "Client's request:\n",
    "\n",
    "```\n",
    "{task.strip()}\n",
    "```\n",
    "\"\"\"\n",
    "\n",
    "images_list_str = '\\n'.join(image_filenames)\n",
    "if images_list_str:\n",
    "    system_prompt += f\"\"\"\n",
    "Here are photos that are available for use:\n",
    "{images_list_str}\n",
    "\n",
    "Be selective with the images you use. You do not need to use them at all.\n",
    "\"\"\"\n",
    "    \n",
    "if ENABLE_BACKGROUND_IMAGE:\n",
    "    system_prompt += \"\\nUse the background.png image as the background for the website, with a transparency of 50%.\"\n"
   ]
  },
  {
   "attachments": {},
   "cell_type": "markdown",
   "metadata": {},
   "source": [
    "## Start Conversation"
   ]
  },
  {
   "cell_type": "code",
   "execution_count": null,
   "metadata": {},
   "outputs": [],
   "source": [
    "user_proxy.initiate_chat(\n",
    "    groupchatmanager,\n",
    "    message=system_prompt,\n",
    ")"
   ]
  },
  {
   "cell_type": "markdown",
   "metadata": {},
   "source": [
    "## Save Webpage\n"
   ]
  },
  {
   "cell_type": "code",
   "execution_count": 52,
   "metadata": {},
   "outputs": [],
   "source": [
    "webpage_content: str = \"\"\"\\\n",
    "<!DOCTYPE html>\n",
    "<html>\n",
    "<head>\n",
    "    <title>Not Found</title>\n",
    "</head>\n",
    "<body>\n",
    "    <p>HTML could not be extracted from the chat.</p>\n",
    "</body>\n",
    "\"\"\"\n",
    "\n",
    "def extract_html_from_message(message: str) -> str:\n",
    "        start_delimiter = \"```html\"\n",
    "        end_delimiter = \"```\"\n",
    "        start_index = message.find(start_delimiter)\n",
    "        end_index = message.find(end_delimiter, start_index + len(start_delimiter))\n",
    "        return message[start_index + len(start_delimiter):end_index]\n",
    "\n",
    "\n",
    "for message in groupchat.messages:\n",
    "        if \"```html\" in message[\"content\"]:\n",
    "            webpage_content = extract_html_from_message(message[\"content\"])"
   ]
  },
  {
   "cell_type": "code",
   "execution_count": 53,
   "metadata": {},
   "outputs": [],
   "source": [
    "def get_webpage_filename(task: str) -> str:\n",
    "    \"\"\"Generate a filename based on the webpage prompt, using OpenAI\"\"\"\n",
    "    prompt: str = f\"Provide a filename for a HTML file that was generated using the prompt:\\n```{task}```\\n\\nFilename: \"\n",
    "\n",
    "    response = client.chat.completions.create(\n",
    "        model=\"gpt-4o\",\n",
    "        messages=[\n",
    "            {\"role\": \"system\", \"content\": \"You are a helpful assistant that generates filenames \"\n",
    "                                          \"for HTML files that were generated using the given prompt.\"},\n",
    "            {\"role\": \"user\", \"content\": prompt}\n",
    "        ],\n",
    "        max_tokens=20,\n",
    "        temperature=0.0\n",
    "    )\n",
    "\n",
    "    filename: str = response.choices[0].message.content.strip()\n",
    "    filename = '.'.join(filename.split('.')[:-1])  # Remove any file extension if present\n",
    "    # Only allow alphanumeric characters, underscores, and dashes in the filename\n",
    "    filename = ''.join(c for c in filename if c.isalnum() or c in ('_', '-')).strip()\n",
    "\n",
    "    number_suffix = 1\n",
    "    while f\"{filename}_{number_suffix}.html\" in os.listdir(\"output\"):\n",
    "        number_suffix += 1\n",
    "\n",
    "    return f\"{filename}_{number_suffix}.html\"\n"
   ]
  },
  {
   "cell_type": "code",
   "execution_count": null,
   "metadata": {},
   "outputs": [],
   "source": [
    "webpage_filename: str = get_webpage_filename(task)\n",
    "print(f\"Webpage filename: `{webpage_filename}`\")\n",
    "webpage_path: str = os.path.join(\"output\", webpage_filename)\n",
    "\n",
    "with open(webpage_path, \"w\") as f:\n",
    "    f.write(webpage_content)\n",
    "    print(f\"Webpage created at `{webpage_path}`\")\n"
   ]
  },
  {
   "cell_type": "markdown",
   "metadata": {},
   "source": [
    "## Open Webpage in browser\n"
   ]
  },
  {
   "cell_type": "code",
   "execution_count": null,
   "metadata": {},
   "outputs": [],
   "source": [
    "# Windows: Open webpage in browser\n",
    "# import webbrowser\n",
    "# webbrowser.open(webpage_path, new=1)\n",
    "\n",
    "# MacOS: Open webpage in browser\n",
    "import os\n",
    "os.system(f\"open {webpage_path}\")\n",
    "\n",
    "# MacOS: Alternate method to open webpage in browser\n",
    "# import subprocess\n",
    "# subprocess.run([\"open\", webpage_path])\n"
   ]
  },
  {
   "cell_type": "code",
   "execution_count": null,
   "metadata": {},
   "outputs": [],
   "source": [
    "print(\"DONE\")\n"
   ]
  }
 ],
 "metadata": {
  "kernelspec": {
   "display_name": "autogen_env",
   "language": "python",
   "name": "python3"
  },
  "language_info": {
   "codemirror_mode": {
    "name": "ipython",
    "version": 3
   },
   "file_extension": ".py",
   "mimetype": "text/x-python",
   "name": "python",
   "nbconvert_exporter": "python",
   "pygments_lexer": "ipython3",
   "version": "3.12.1"
  }
 },
 "nbformat": 4,
 "nbformat_minor": 4
}
