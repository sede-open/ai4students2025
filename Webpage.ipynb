{
 "cells": [
  {
   "cell_type": "markdown",
   "metadata": {},
   "source": [
    "# Webpage Creator\n",
    "\n",
    "Task:\n",
    "* Brainstorm ideas for webpages to build (e.g Pizza store, Gaming, Cooking etc)​.\n",
    "* Prepare the `task` prompt​ with your idea.\n",
    "* Run the code, and see your webpage!\n",
    "\n",
    "Extension:\n",
    "* Make sure the downloaded images off the internet are placed within `images` folder under `coding` folder, and tell Autogen to use those images.\n"
   ]
  },
  {
   "cell_type": "code",
   "execution_count": null,
   "metadata": {},
   "outputs": [],
   "source": [
    "task: str = \"\"\"\\\n",
    "\n",
    "A website about cars.\n",
    "\n",
    "\"\"\"\n",
    "# task: str = \"Make a website about coffee.\"\n",
    "# task: str = \"Make a website about animals, such as the zoo or a safari or anything else.\"\n",
    "# task: str = \"Make a website related to pizza.\"\n",
    "# task: str = \"Make a website related to cooking.\"\n",
    "# task: str = \"Make a blog post about one of your passions.\"\n",
    "# task: str = \"Make a useful website for high school students looking to apply to university.\"\n",
    "# task: str = \"\"\"I want to a website about my favourite games, complete with a store, blog etc.\n",
    "# My goals are to have interesting content for users to read, a visually appealing website, and a store where users can buy games.\n",
    "# I want the website to be easy to navigate and look good on mobile devices.\n",
    "# \"\"\""
   ]
  },
  {
   "cell_type": "code",
   "execution_count": null,
   "metadata": {},
   "outputs": [],
   "source": [
    "coder_system_message: str = \"\"\"Website Developer.\n",
    "You are an expert in programming HTML. You are tasked with creating a website for a client.\n",
    "\n",
    "Your response must only be a single \"```html\" block, and include all contents of the file.\n",
    "Do not abbreviate the HTML tags, and ensure that the file is complete and valid.\n",
    "\"\"\""
   ]
  },
  {
   "cell_type": "code",
   "execution_count": null,
   "metadata": {},
   "outputs": [],
   "source": [
    "critic_system_message: str = \"\"\"Critic.\n",
    "You are a helpful assistant highly skilled in evaluating the quality of a given webpage's HTML code by providing a score from 1 (bad) - 10 (good) while providing clear rationale.\n",
    "YOU MUST CONSIDER HTML BEST PRACTICES for each evaluation. Specifically, you can carefully evaluate the code across the following dimensions\n",
    "- Bugs (bugs): Are there logic errors, syntax error or typos? If ANY bug exists, the bug score MUST be less than 5.\n",
    "- Goal compliance (compliance): How well the code meets the specified webpage goals?\n",
    "- Navigation (navigation): Is the navigation bar easy to use and understand? Does it have a clear hierarchy? No navigation bar means a score of 0. No href links means a score of 0.\n",
    "- Layout (layout): Is the layout of the webpage appropriate? Is the webpage responsive? Does it look good on mobile devices?\n",
    "- Aesthetics (aesthetics): Is the webpage visually appealing? Does it have a good color scheme? Does it have a good font? Does it have a good use of whitespace? If there is no CSS, then mark this as 0.\n",
    "- Images (images): Do images have a max-width so that they do not take up too much space? Make sure that `max-width: 50%` is the largest an image can be.\n",
    "- Content (content): Suggest improvements to the content. Are more sections needed? Is it worded well?\n",
    "\n",
    "YOU MUST PROVIDE A SCORE for each of the above dimensions.\n",
    "{bugs: 0, compliance: 0, navigation: 0, layout: 0, aesthetics: 0, images: 0, content: 0}\n",
    "Do not suggest code.\n",
    "Finally, based on the critique above, suggest a concrete list of actions that the coder should take to improve the code.\n",
    "\n",
    "After your scores and rationale, provide enhancements to the content that can be made.\n",
    "\"\"\""
   ]
  },
  {
   "attachments": {},
   "cell_type": "markdown",
   "metadata": {},
   "source": [
    "## Imports"
   ]
  },
  {
   "cell_type": "code",
   "execution_count": null,
   "metadata": {},
   "outputs": [],
   "source": [
    "\n",
    "# %pip install -U pyautogen\n",
    "# %pip install -U openai\n",
    "\n",
    "# Maximum number of messages in the chat\n",
    "MAX_MESSAGES: int = 10"
   ]
  },
  {
   "cell_type": "code",
   "execution_count": null,
   "metadata": {},
   "outputs": [],
   "source": [
    "import os\n",
    "import autogen\n",
    "from openai import OpenAI\n",
    "import base64\n",
    "from autogen.agentchat import UserProxyAgent, AssistantAgent"
   ]
  },
  {
   "cell_type": "code",
   "execution_count": null,
   "metadata": {},
   "outputs": [],
   "source": [
    "# List of OpenAI API configurations\n",
    "config_list: list = autogen.config_list_from_json(\n",
    "    \"OAI_CONFIG_LIST\",\n",
    ")\n",
    "\n",
    "apikey = config_list[0][\"api_key\"]\n",
    "print(f\"Using {len(config_list)} OpenAI API configurations\")"
   ]
  },
  {
   "cell_type": "markdown",
   "metadata": {},
   "source": [
    "## Shared Configs\n"
   ]
  },
  {
   "cell_type": "code",
   "execution_count": null,
   "metadata": {},
   "outputs": [],
   "source": [
    "# For User Proxy Agents\n",
    "code_execution_config: bool = False\n",
    "\n",
    "def is_termination_msg(msg: dict) -> bool:\n",
    "    return \"TERMINATE\" in msg[\"content\"]\n"
   ]
  },
  {
   "attachments": {},
   "cell_type": "markdown",
   "metadata": {},
   "source": [
    "## Construct Agents"
   ]
  },
  {
   "cell_type": "code",
   "execution_count": null,
   "metadata": {},
   "outputs": [],
   "source": [
    "agents: list = []"
   ]
  },
  {
   "cell_type": "code",
   "execution_count": null,
   "metadata": {},
   "outputs": [],
   "source": [
    "coder = AssistantAgent(\n",
    "    name=\"Coder\",\n",
    "    system_message=coder_system_message,\n",
    "    llm_config={\n",
    "        \"config_list\": config_list,\n",
    "        \"cache_seed\": None,\n",
    "        \"temperature\": 0.1,\n",
    "        \"timeout\": 600,\n",
    "    },\n",
    ")\n",
    "\n",
    "agents.append(coder)\n"
   ]
  },
  {
   "cell_type": "code",
   "execution_count": null,
   "metadata": {},
   "outputs": [],
   "source": [
    "critic = AssistantAgent(\n",
    "    name=\"Critic\",\n",
    "    system_message=critic_system_message,\n",
    "    llm_config={\n",
    "        \"config_list\": config_list,\n",
    "        \"cache_seed\": None,\n",
    "        \"temperature\": 0.3,\n",
    "        \"timeout\": 600,\n",
    "    },\n",
    ")\n",
    "\n",
    "agents.append(critic)"
   ]
  },
  {
   "cell_type": "markdown",
   "metadata": {},
   "source": [
    "### User Proxy Agent\n"
   ]
  },
  {
   "cell_type": "code",
   "execution_count": null,
   "metadata": {},
   "outputs": [],
   "source": [
    "# The User Proxy Agent starts the conversation\n",
    "user_proxy = UserProxyAgent(\n",
    "    name=\"user_proxy\",\n",
    "    system_message=\"A human admin.\",\n",
    "    human_input_mode=\"NEVER\",\n",
    "    is_termination_msg=is_termination_msg,\n",
    "    code_execution_config=code_execution_config,\n",
    "    default_auto_reply=\"\",\n",
    "    max_consecutive_auto_reply=MAX_MESSAGES,\n",
    ")\n"
   ]
  },
  {
   "cell_type": "markdown",
   "metadata": {},
   "source": [
    "### Create Group Chat"
   ]
  },
  {
   "cell_type": "code",
   "execution_count": null,
   "metadata": {},
   "outputs": [],
   "source": [
    "print(\"Chat participants:\")\n",
    "for agent in agents:\n",
    "    print(f\" - {agent.name} ({agent.__module__.split('.')[-1]})\")\n"
   ]
  },
  {
   "cell_type": "code",
   "execution_count": null,
   "metadata": {},
   "outputs": [],
   "source": [
    "groupchat = autogen.GroupChat(\n",
    "    agents=agents,\n",
    "    messages=[],\n",
    "    speaker_selection_method=\"round_robin\",\n",
    "    allow_repeat_speaker=False,\n",
    "    max_round=MAX_MESSAGES,\n",
    ")\n",
    "\n",
    "groupchatmanager = autogen.GroupChatManager(\n",
    "    name=\"chat_manager\",\n",
    "    groupchat=groupchat,\n",
    "    is_termination_msg=is_termination_msg,\n",
    "    llm_config={\n",
    "        \"config_list\": config_list,\n",
    "        \"cache_seed\": None,\n",
    "        \"temperature\": 0.2,\n",
    "        \"timeout\": 600,\n",
    "    },\n",
    ")\n"
   ]
  },
  {
   "cell_type": "markdown",
   "metadata": {},
   "source": [
    "## Setup Conversation"
   ]
  },
  {
   "cell_type": "code",
   "execution_count": null,
   "metadata": {},
   "outputs": [],
   "source": [
    "\n",
    "image_prompt = f\"\"\"\\\n",
    "Light, scenic, background for the website: {task}\n",
    "\"\"\"\n"
   ]
  },
  {
   "cell_type": "code",
   "execution_count": null,
   "metadata": {},
   "outputs": [],
   "source": [
    "\n",
    "client = OpenAI(\n",
    "    # This is the default and can be omitted\n",
    "    api_key=apikey,\n",
    ")\n",
    "model = \"dall-e-3\"\n",
    "\n",
    " # Generate an image based on the prompt\n",
    "response = client.images.generate(prompt=image_prompt, model=model,quality=\"standard\", response_format=\"b64_json\", size=\"1024x1024\")\n",
    "\n",
    "img_data =  response.data[0].b64_json\n",
    "img_bytes = base64.b64decode(img_data)\n",
    "\n",
    "with open(os.path.join('coding', 'images', 'background.png'), 'wb') as handler:\n",
    "    handler.write(img_bytes)\n"
   ]
  },
  {
   "cell_type": "code",
   "execution_count": null,
   "metadata": {},
   "outputs": [],
   "source": [
    "# Find images that can be used\n",
    "image_filenames = [os.path.join(\"images\", image)\n",
    "                   for image in os.listdir(os.path.join(\"coding\", \"images\"))\n",
    "                   if image.endswith((\".jpg\", \".jpeg\", \".png\"))]\n"
   ]
  },
  {
   "cell_type": "code",
   "execution_count": null,
   "metadata": {},
   "outputs": [],
   "source": [
    "system_prompt: str = f\"\"\"\\\n",
    "Build a responsive HTML website for the client.\n",
    "\n",
    "Client's request:\n",
    "\n",
    "```\n",
    "{task.strip()}\n",
    "```\n",
    "\"\"\"\n",
    "\n",
    "images_list_str = '\\n'.join(image_filenames)\n",
    "if images_list_str:\n",
    "    system_prompt += f\"\"\"\n",
    "Here are some stock photos that are available for use:\n",
    "{images_list_str}\n",
    "\n",
    "Be selective with the images you use. You do not need to use them at all.\n",
    "Use the background.png image as the background for the website.\n",
    "\"\"\""
   ]
  },
  {
   "attachments": {},
   "cell_type": "markdown",
   "metadata": {},
   "source": [
    "## Start Conversation"
   ]
  },
  {
   "cell_type": "code",
   "execution_count": null,
   "metadata": {},
   "outputs": [],
   "source": [
    "user_proxy.initiate_chat(\n",
    "    groupchatmanager,\n",
    "    message=system_prompt,\n",
    ")"
   ]
  },
  {
   "cell_type": "markdown",
   "metadata": {},
   "source": [
    "## Save Webpage\n"
   ]
  },
  {
   "cell_type": "code",
   "execution_count": null,
   "metadata": {},
   "outputs": [],
   "source": [
    "webpage_content: str = \"\"\"\\\n",
    "<!DOCTYPE html>\n",
    "<html>\n",
    "<head>\n",
    "    <title>Not Found</title>\n",
    "</head>\n",
    "<body>\n",
    "    <p>HTML could not be extracted from the chat.</p>\n",
    "</body>\n",
    "\"\"\"\n",
    "\n",
    "def extract_html_from_message(message: str) -> str:\n",
    "        start_delimiter = \"```html\"\n",
    "        end_delimiter = \"```\"\n",
    "        start_index = message.find(start_delimiter)\n",
    "        end_index = message.find(end_delimiter, start_index + len(start_delimiter))\n",
    "        return message[start_index + len(start_delimiter):end_index]\n",
    "\n",
    "\n",
    "for message in groupchat.messages:\n",
    "        if \"```html\" in message[\"content\"]:\n",
    "            webpage_content = extract_html_from_message(message[\"content\"])"
   ]
  },
  {
   "cell_type": "code",
   "execution_count": null,
   "metadata": {},
   "outputs": [],
   "source": [
    "webpage_path: str = os.path.join(\"coding\", \"my_webpage.html\")\n",
    "\n",
    "with open(webpage_path, \"w\") as f:\n",
    "    f.write(webpage_content)\n",
    "    print(f\"Webpage created at `{webpage_path}`\")\n"
   ]
  },
  {
   "cell_type": "markdown",
   "metadata": {},
   "source": [
    "## Open Webpage in browser\n"
   ]
  },
  {
   "cell_type": "code",
   "execution_count": null,
   "metadata": {},
   "outputs": [],
   "source": [
    "# Open webpage in browser\n",
    "import webbrowser\n",
    "webbrowser.open(webpage_path, new=1)\n",
    "\n",
    "# Alternate method to open webpage in browser\n",
    "# import os\n",
    "# os.system(f\"open {webpage_path}\")\n",
    "\n",
    "# Alternate method 2 to open webpage in browser\n",
    "# import subprocess\n",
    "# subprocess.run([\"open\", webpage_path])\n"
   ]
  },
  {
   "cell_type": "code",
   "execution_count": null,
   "metadata": {},
   "outputs": [],
   "source": [
    "print(\"DONE\")\n"
   ]
  }
 ],
 "metadata": {
  "kernelspec": {
   "display_name": "Python 3",
   "language": "python",
   "name": "python3"
  },
  "language_info": {
   "codemirror_mode": {
    "name": "ipython",
    "version": 3
   },
   "file_extension": ".py",
   "mimetype": "text/x-python",
   "name": "python",
   "nbconvert_exporter": "python",
   "pygments_lexer": "ipython3",
   "version": "3.11.10"
  }
 },
 "nbformat": 4,
 "nbformat_minor": 4
}
